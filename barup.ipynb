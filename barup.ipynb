{
 "cells": [
  {
   "cell_type": "code",
   "execution_count": 1,
   "id": "1b8dac33-8576-4dd0-808d-9254dfd21b4c",
   "metadata": {},
   "outputs": [
    {
     "name": "stdout",
     "output_type": "stream",
     "text": [
      "01 02 03 04 \n",
      "08 07 06 05 \n",
      "09 10 11 12 \n",
      "16 15 14 13 \n",
      "01 02 03 04 05 \n",
      "10 09 08 07 06 \n",
      "11 12 13 14 15 \n",
      "20 19 18 17 16 \n",
      "21 22 23 24 25 \n",
      "tidak terdefiniskan\n"
     ]
    }
   ],
   "source": [
    "def polaular(angka):\n",
    "    if angka < 1:\n",
    "        print(\"tidak terdefiniskan\")\n",
    "        return\n",
    "\n",
    "    sangka = 1\n",
    "    for i in range(1, angka + 1):\n",
    "        if i % 2 == 1:\n",
    "            # Cetak angka naik\n",
    "            for j in range(angka):\n",
    "                print(f\"{sangka:02d}\", end=' ')\n",
    "                sangka += 1\n",
    "        else:\n",
    "            # Cetak angka turun\n",
    "            sangka += angka - 1\n",
    "            for j in range(angka):\n",
    "                print(f\"{sangka:02d}\", end=' ')\n",
    "                sangka -= 1\n",
    "            sangka += angka + 1\n",
    "        print()\n",
    "\n",
    "# Contoh penggunaan\n",
    "polaular(4)  # Contoh dengan input 4\n",
    "polaular(5)  # Contoh dengan input 5\n",
    "polaular(0)  # Contoh dengan input tidak valid"
   ]
  },
  {
   "cell_type": "code",
   "execution_count": 3,
   "id": "0bd0c9fd-0724-4d79-8349-7f187fa02927",
   "metadata": {},
   "outputs": [
    {
     "name": "stdout",
     "output_type": "stream",
     "text": [
      "#  #\n",
      "#  #\n",
      "####\n",
      "#  #\n",
      "#  #\n",
      "# #\n",
      "# #\n",
      "# #\n",
      "# #\n",
      "# #\n",
      "###\n",
      "# #\n",
      "# #\n",
      "# #\n",
      "# #\n",
      "# #\n",
      "dimensi tidak sesuai\n"
     ]
    }
   ],
   "source": [
    "def capitalh(baris, kolom):\n",
    "    if baris < 3 or kolom < 3:\n",
    "        print(\"dimensi tidak sesuai\")\n",
    "        return\n",
    "    elif baris % 2 == 0 :\n",
    "        print(\"dimensi tidak sesuai\")\n",
    "        return \n",
    "    for i in range(baris):\n",
    "        for j in range(kolom):\n",
    "            if j == 0 or j == kolom - 1 or i == baris // 2:\n",
    "                print('#', end='')\n",
    "            else:\n",
    "                print(' ', end='')  \n",
    "        print()  \n",
    "\n",
    "capitalh(5, 4)  \n",
    "capitalh(11, 3)  \n",
    "capitalh(4,3)"
   ]
  },
  {
   "cell_type": "code",
   "execution_count": 5,
   "id": "4354cbb4-7fe3-4b1e-b88e-f28c0a76825c",
   "metadata": {},
   "outputs": [
    {
     "name": "stdout",
     "output_type": "stream",
     "text": [
      "bukan prima\n",
      "bukan prima\n",
      "prima\n",
      "prima\n",
      "prima\n",
      "bukan prima\n"
     ]
    }
   ],
   "source": [
    "def is_prime(bilangan):\n",
    "    if bilangan < 2:\n",
    "        return \"bukan prima\"\n",
    "    for i in range(2, int(bilangan**0.5) + 1):\n",
    "        if bilangan % i == 0:\n",
    "            return \"bukan prima\"\n",
    "    return \"prima\"\n",
    "\n",
    "# Contoh penggunaan\n",
    "print(is_prime(0))   # Output: bukan prima\n",
    "print(is_prime(100)) # Output: bukan prima\n",
    "print(is_prime(2))   # Output: prima\n",
    "print(is_prime(7))   # Output: prima\n",
    "print(is_prime(29))  # Output: prima\n",
    "print(is_prime(1))   # Output: bukan prima"
   ]
  },
  {
   "cell_type": "code",
   "execution_count": 7,
   "id": "833a3ff7-308f-4703-b23f-f6e45753c1f5",
   "metadata": {},
   "outputs": [
    {
     "name": "stdout",
     "output_type": "stream",
     "text": [
      "#     #\n",
      "#     #\n",
      "#     #\n",
      "#######\n",
      "#     #\n",
      "#     #\n",
      "#     #\n"
     ]
    }
   ],
   "source": [
    "def print_h(height):\n",
    "    if height < 3:\n",
    "        print(\"Tinggi harus minimal 3 untuk membentuk huruf H.\")\n",
    "        return\n",
    "\n",
    "    for i in range(height):  # Loop untuk baris\n",
    "        for j in range(height):  # Loop untuk kolom\n",
    "            # Cetak '#' jika di kolom pertama, kolom terakhir, atau baris tengah\n",
    "            if j == 0 or j == height - 1 or i == height // 2:\n",
    "                print('#', end='')\n",
    "            else:\n",
    "                print(' ', end='')  # Cetak spasi untuk bagian kosong\n",
    "        print()  # Pindah ke baris baru setelah selesai mencetak satu baris\n",
    "\n",
    "# Contoh penggunaan\n",
    "tinggi = 7  # Anda bisa mengubah tinggi sesuai keinginan\n",
    "print_h(tinggi)"
   ]
  },
  {
   "cell_type": "code",
   "execution_count": 9,
   "id": "124e8997-90b1-4ccf-afcf-505173951a80",
   "metadata": {},
   "outputs": [
    {
     "name": "stdout",
     "output_type": "stream",
     "text": [
      "0 1 1 2 3 5 8 13 21 "
     ]
    }
   ],
   "source": [
    "def fibonacci(n):\n",
    "    a, b = 0, 1\n",
    "    for i in range(n):\n",
    "        if i == 5:  # Lewati angka ke-6 (indeks 5)\n",
    "            continue  \n",
    "        print(a, end=\" \")\n",
    "        a, b = b, a + b  \n",
    "\n",
    "# Contoh penggunaan\n",
    "fibonacci(10)"
   ]
  },
  {
   "cell_type": "code",
   "execution_count": 11,
   "id": "2133b136-25e4-4b2a-9c78-06da7de86f2b",
   "metadata": {},
   "outputs": [
    {
     "name": "stdout",
     "output_type": "stream",
     "text": [
      "tiga satu dua empat\n"
     ]
    }
   ],
   "source": [
    "def angka_ke_kata(angka):\n",
    "    hasil = \"\"\n",
    "    for digit in str(angka):\n",
    "        if digit == \"0\":\n",
    "            hasil += \"nol \"\n",
    "        elif digit == \"1\":\n",
    "            hasil += \"satu \"\n",
    "        elif digit == \"2\":\n",
    "            hasil += \"dua \"\n",
    "        elif digit == \"3\":\n",
    "            hasil += \"tiga \"\n",
    "        elif digit == \"4\":\n",
    "            hasil += \"empat \"\n",
    "        elif digit == \"5\":\n",
    "            hasil += \"lima \"\n",
    "        elif digit == \"6\":\n",
    "            hasil += \"enam \"\n",
    "        elif digit == \"7\":\n",
    "            hasil += \"tujuh \"\n",
    "        elif digit == \"8\":\n",
    "            hasil += \"delapan \"\n",
    "        elif digit == \"9\":\n",
    "            hasil += \"sembilan \"\n",
    "\n",
    "    return hasil.strip()  # Menghilangkan spasi di akhir\n",
    "\n",
    "# Contoh penggunaan\n",
    "angka = 3124\n",
    "hasil = angka_ke_kata(angka)\n",
    "print(hasil)"
   ]
  },
  {
   "cell_type": "code",
   "execution_count": 19,
   "id": "d261b8f0-47a8-4614-943d-5413f3e6437b",
   "metadata": {},
   "outputs": [
    {
     "name": "stdout",
     "output_type": "stream",
     "text": [
      "pahlawan\n"
     ]
    }
   ],
   "source": [
    "def duel (hp1, damage1, hp2, damage2):\n",
    "    while True:\n",
    "        if hp1 <= 0 :\n",
    "            return \"Monster\"\n",
    "        elif hp2 <= 0 :\n",
    "            return \"pahlawan\"\n",
    "        hp2 -= damage1\n",
    "        if hp2 > 0:\n",
    "            hp1 -= damage2\n",
    "        \n",
    "print (duel(20,50,60,10))\n"
   ]
  },
  {
   "cell_type": "code",
   "execution_count": 21,
   "id": "c92652f0-0c2b-471f-92f3-5272df433a6c",
   "metadata": {},
   "outputs": [
    {
     "name": "stdout",
     "output_type": "stream",
     "text": [
      "15\n",
      "\n",
      "3045\n",
      "6075\n",
      "\n",
      "90105120\n",
      "135150165\n",
      "180195210\n",
      "\n",
      "225240255270\n",
      "285300315330\n",
      "345360375390\n",
      "405420435450\n",
      "\n"
     ]
    }
   ],
   "source": [
    "def tangga(n,kelipatan):\n",
    "    nums = kelipatan \n",
    "    for i in range (1, n+1):\n",
    "        for j in range (1, i**2+1):\n",
    "            print (nums, end = \"\")\n",
    "            if j % i == 0:\n",
    "                print ()\n",
    "            nums += kelipatan\n",
    "        print()\n",
    "        \n",
    "tangga (4,15)"
   ]
  },
  {
   "cell_type": "code",
   "execution_count": 25,
   "id": "abc2e0ac-0693-493c-b0b8-7c7e046841e8",
   "metadata": {},
   "outputs": [
    {
     "name": "stdout",
     "output_type": "stream",
     "text": [
      "*\n",
      "\n",
      "**\n",
      "**\n",
      "\n",
      "***\n",
      "***\n",
      "***\n",
      "\n",
      "****\n",
      "****\n",
      "****\n",
      "****\n",
      "\n"
     ]
    }
   ],
   "source": [
    "def tanggakelipatan (n,kelipatan):\n",
    "    for i in range (1,n+1):\n",
    "        for j in range (i):\n",
    "            print (\"*\" * i)\n",
    "        print ()\n",
    "\n",
    "tanggakelipatan(4,2)"
   ]
  },
  {
   "cell_type": "code",
   "execution_count": 29,
   "id": "be220846-86ad-4405-80ef-5507df8a7291",
   "metadata": {},
   "outputs": [
    {
     "name": "stdout",
     "output_type": "stream",
     "text": [
      "1 3 GWS2 7 9 11 13 GWS2 17 19 21 23 GWS2 27 29 31 33 GWS2 37 39 "
     ]
    }
   ],
   "source": [
    "def angka_gws(n, lompat, angka_gws1, angka_gws2, kata_gws1, kata_gws2, kata_spesial):\n",
    "    angka = 1\n",
    "    for i in range(1, n+1):\n",
    "        if angka % angka_gws1 == 0 and angka % angka_gws2 == 0:\n",
    "            print(kata_spesial, end= \" \")\n",
    "        elif angka % angka_gws1 == 0:\n",
    "            print(kata_gws1, end= \" \")\n",
    "        elif angka % angka_gws2 == 0:\n",
    "            print(kata_gws2, end= \" \")\n",
    "        else:\n",
    "            print(angka, end=\" \")\n",
    "        angka += lompat\n",
    "\n",
    " \n",
    "angka_gws(20, 2, 4, 5, \"GWS1\", \"GWS2\", \"GWSSS\")"
   ]
  },
  {
   "cell_type": "code",
   "execution_count": null,
   "id": "0f35cd0b-1e9b-444b-a101-207609ff2930",
   "metadata": {},
   "outputs": [],
   "source": []
  }
 ],
 "metadata": {
  "kernelspec": {
   "display_name": "Python [conda env:base] *",
   "language": "python",
   "name": "conda-base-py"
  },
  "language_info": {
   "codemirror_mode": {
    "name": "ipython",
    "version": 3
   },
   "file_extension": ".py",
   "mimetype": "text/x-python",
   "name": "python",
   "nbconvert_exporter": "python",
   "pygments_lexer": "ipython3",
   "version": "3.12.7"
  }
 },
 "nbformat": 4,
 "nbformat_minor": 5
}
