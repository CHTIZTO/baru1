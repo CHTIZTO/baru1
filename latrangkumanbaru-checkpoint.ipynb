{
 "cells": [
  {
   "cell_type": "code",
   "execution_count": 11,
   "id": "7475f5cf-957f-4013-b1c0-dc99dbbc2c29",
   "metadata": {},
   "outputs": [
    {
     "name": "stdout",
     "output_type": "stream",
     "text": [
      "True\n",
      "True\n",
      "False\n"
     ]
    }
   ],
   "source": [
    "kalimat = \"saya mau makan\"\n",
    "data = \"saya mau\"\n",
    "print(data in kalimat) #True\n",
    "print(\"mau\" in kalimat) #True\n",
    "print (\"minum\" in kalimat)"
   ]
  },
  {
   "cell_type": "code",
   "execution_count": 13,
   "id": "e5415239-fe6c-40da-9bae-f1dea7b57700",
   "metadata": {},
   "outputs": [
    {
     "name": "stdout",
     "output_type": "stream",
     "text": [
      "Ya\n",
      "Sama\n"
     ]
    }
   ],
   "source": [
    "if \"saya\" > \"dia\":\n",
    "    print(\"Ya\") #Ya\n",
    "else:\n",
    "    print(\"Tidak\")\n",
    "if \"dua\" == \"dua\":\n",
    "    print(\"Sama\") #Sama"
   ]
  },
  {
   "cell_type": "code",
   "execution_count": 19,
   "id": "c9adbd7d-d806-4f2f-b422-14a8fb81d819",
   "metadata": {},
   "outputs": [
    {
     "name": "stdout",
     "output_type": "stream",
     "text": [
      "r\n"
     ]
    }
   ],
   "source": [
    "kalimat = \"universitas kristen duta wacana yogyakarta\"\n",
    "# print(len(kalimat)) #output 42\n",
    "terakhir = kalimat[len(kalimat)-3]\n",
    "print(terakhir) #output 'a'"
   ]
  },
  {
   "cell_type": "code",
   "execution_count": 23,
   "id": "342f94a6-b098-48df-b0ab-b4144995b028",
   "metadata": {},
   "outputs": [
    {
     "name": "stdout",
     "output_type": "stream",
     "text": [
      "i-n-d-o-n-e-s-i-a- -j-a-y-a-"
     ]
    }
   ],
   "source": [
    "kalimat = \"indonesia jaya\"\n",
    "i = 0\n",
    "while i < len(kalimat):\n",
    "    print(kalimat[i],end='-')\n",
    "    i += 1"
   ]
  },
  {
   "cell_type": "code",
   "execution_count": 27,
   "id": "ec861199-3dac-4ab4-8906-23db8085f24c",
   "metadata": {},
   "outputs": [
    {
     "name": "stdout",
     "output_type": "stream",
     "text": [
      "cerita\n",
      "rakyat\n",
      "cerit\n",
      "a rakyat\n",
      "a ra\n"
     ]
    }
   ],
   "source": [
    "kalimat = \"cerita rakyat\"\n",
    "awal = 0\n",
    "akhir = 6\n",
    "print(kalimat[awal:akhir]) #cerita\n",
    "print(kalimat[7:len(kalimat)]) #rakyat\n",
    "print(kalimat[:5]) #cerit\n",
    "print(kalimat[5:]) #a rakyat\n",
    "print(kalimat[5:9]) #cerita rakya"
   ]
  },
  {
   "cell_type": "code",
   "execution_count": 36,
   "id": "1b4732f4-c686-48b9-aed3-7f177ce70cd2",
   "metadata": {},
   "outputs": [
    {
     "name": "stdout",
     "output_type": "stream",
     "text": [
      "['Saudara-saudara,', 'pada', 'tanggal', '17-08-1945', 'Indonesia', 'merdeka']\n",
      "17/08/1945\n"
     ]
    }
   ],
   "source": [
    "kalimat = \"Saudara-saudara, pada tanggal 17-08-1945 Indonesia merdeka\"\n",
    "hasil = kalimat.split(\" \")\n",
    "print (hasil)\n",
    "for kal in hasil:\n",
    "    if kal[0].isdigit():\n",
    "        hasil2 = kal.split(\"-\")\n",
    "        print(hasil2[0]+\"/\"+hasil2[1]+\"/\"+hasil2[2])"
   ]
  },
  {
   "cell_type": "code",
   "execution_count": 40,
   "id": "6a667e51-167a-478e-ad78-0e00afb4f175",
   "metadata": {},
   "outputs": [
    {
     "name": "stdout",
     "output_type": "stream",
     "text": [
      "4\n"
     ]
    }
   ],
   "source": [
    "a_string = \"AnTonIus\"\n",
    "lowercase = a_string.lower()\n",
    "\n",
    "total = 0\n",
    "for x in \"aiueo\":\n",
    "    jml = lowercase.count(x)\n",
    "    total += jml\n",
    "print(total)"
   ]
  },
  {
   "cell_type": "code",
   "execution_count": 44,
   "id": "0fbf3611-51fd-426b-aa44-742a19eae839",
   "metadata": {},
   "outputs": [
    {
     "name": "stdout",
     "output_type": "stream",
     "text": [
      "steponnopets\n",
      "steponnopets\n",
      "palindrom\n"
     ]
    }
   ],
   "source": [
    "satu = \"Step! on, no.. pets??\"\n",
    "satu = satu.lower()\n",
    "satu = ''.join([i for i in satu if i.isalpha()]) #buang semua yang bukan alfabet\n",
    "dua = satu[::-1]\n",
    "print(satu)\n",
    "print(dua)\n",
    "if dua == satu:\n",
    "    print(\"palindrom\")\n",
    "else:\n",
    "    print(\"bukan\")\n"
   ]
  },
  {
   "cell_type": "code",
   "execution_count": 1,
   "id": "1269830f-b9f2-48b7-a7de-ea2f1aa8b432",
   "metadata": {},
   "outputs": [
    {
     "name": "stdout",
     "output_type": "stream",
     "text": [
      "0812xxx6789\n",
      "0872xxxx9249\n"
     ]
    }
   ],
   "source": [
    "import re\n",
    "\n",
    "def sensor_nohp(kalimat):\n",
    "    # Mencari semua nomor HP 08 dengan panjang 10-13 digit\n",
    "    nomor_hps = re.findall(r'\\b08\\d{8,11}\\b', kalimat)\n",
    "    \n",
    "    # Fungsi untuk menyensor setiap nomor\n",
    "    def sensor_nomor(nomor):\n",
    "        panjang = len(nomor)\n",
    "        # Menyensor digit ke-5 hingga ke-4 dari akhir\n",
    "        sensor_length = panjang - 8  # total digit yang perlu disensor\n",
    "        bagian_awal = nomor[:4]\n",
    "        bagian_akhir = nomor[-4:]\n",
    "        return f\"{bagian_awal}{'x' * sensor_length}{bagian_akhir}\"\n",
    "    \n",
    "    # Mengaplikasikan fungsi sensor ke semua nomor\n",
    "    return '\\n'.join(sensor_nomor(nomor) for nomor in nomor_hps)\n",
    "\n",
    "# Contoh penggunaan\n",
    "kalimat = \"Nohpku adalah 08123456789. Sedangkan no hp Angel ialah 087294919249\"\n",
    "hasil = sensor_nohp(kalimat)\n",
    "print(hasil)"
   ]
  },
  {
   "cell_type": "code",
   "execution_count": 3,
   "id": "dd3baedd-4cb0-4308-8da3-e4518ecfc939",
   "metadata": {},
   "outputs": [],
   "source": [
    "import re\n",
    "\n",
    "def hitung_frekuensi_kata(teks, kata_dicari):\n",
    "    # Convert to lowercase for case-insensitive comparison\n",
    "    teks_lower = teks.lower()\n",
    "    kata_dicari_lower = kata_dicari.lower()\n",
    "    \n",
    "    # Find all words, ignoring punctuation\n",
    "    words = re.findall(r'\\b\\w+\\b', teks_lower)\n",
    "    \n",
    "    # Count occurrences\n",
    "    return words.count(kata_dicari_lower)"
   ]
  },
  {
   "cell_type": "code",
   "execution_count": 5,
   "id": "9c23756b-f2d7-424c-977f-bb8257a071ac",
   "metadata": {},
   "outputs": [
    {
     "name": "stdout",
     "output_type": "stream",
     "text": [
      "Password lemah\n",
      "Password tidak valid\n",
      "Password lemah\n"
     ]
    }
   ],
   "source": [
    "import re\n",
    "\n",
    "def cek_password(password):\n",
    "    # Check for invalid conditions first\n",
    "    if len(password) < 6 or len(password) > 20:\n",
    "        print(\"Password tidak valid\")\n",
    "        return\n",
    "    if ' ' in password:\n",
    "        print(\"Password tidak valid\")\n",
    "        return\n",
    "    \n",
    "    # Check for strong password criteria\n",
    "    has_upper = re.search(r'[A-Z]', password) is not None\n",
    "    has_lower = re.search(r'[a-z]', password) is not None\n",
    "    has_digit = re.search(r'[0-9]', password) is not None\n",
    "    has_special = re.search(r'[^A-Za-z0-9_]', password) is not None\n",
    "    \n",
    "    if has_upper and has_lower and has_digit and has_special:\n",
    "        print(\"Password kuat\")\n",
    "    else:\n",
    "        print(\"Password lemah\")\n",
    "\n",
    "cek_password('T3stP4sswOrd')      # Output: Password kuat\n",
    "cek_password('AlpRoTid4kSus$hk0q,j4N64nku4t1r12345')  # Output: Password tidak valid\n",
    "cek_password('In1Passwordku')     # Output: Password lemah"
   ]
  },
  {
   "cell_type": "code",
   "execution_count": null,
   "id": "bffa0d8f-2932-4171-8aef-c05e9fe33c3b",
   "metadata": {},
   "outputs": [],
   "source": []
  }
 ],
 "metadata": {
  "kernelspec": {
   "display_name": "Python [conda env:base] *",
   "language": "python",
   "name": "conda-base-py"
  },
  "language_info": {
   "codemirror_mode": {
    "name": "ipython",
    "version": 3
   },
   "file_extension": ".py",
   "mimetype": "text/x-python",
   "name": "python",
   "nbconvert_exporter": "python",
   "pygments_lexer": "ipython3",
   "version": "3.12.7"
  }
 },
 "nbformat": 4,
 "nbformat_minor": 5
}
